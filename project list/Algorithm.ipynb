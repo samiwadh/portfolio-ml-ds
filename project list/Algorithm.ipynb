{
 "cells": [
  {
   "cell_type": "code",
   "execution_count": 1,
   "id": "8ff4e355",
   "metadata": {},
   "outputs": [
    {
     "data": {
      "text/plain": [
       "[1, 2, 3]"
      ]
     },
     "execution_count": 1,
     "metadata": {},
     "output_type": "execute_result"
    }
   ],
   "source": [
    "import numpy  as  np \n",
    "import numpy as np\n",
    "\n",
    "np.array([1, 2, 3])     # ➝ array([1, 2, 3])          ← manual list to array  \n",
    "np.arange(1, 4)         # ➝ array([1, 2, 3])          ← like range, but NumPy array  \n",
    "list(range(1, 4))       # ➝ [1, 2, 3]                 ← Python list\n"
   ]
  },
  {
   "cell_type": "code",
   "execution_count": null,
   "id": "b562fb0c",
   "metadata": {},
   "outputs": [],
   "source": []
  }
 ],
 "metadata": {
  "kernelspec": {
   "display_name": "Python (myenv)",
   "language": "python",
   "name": "myenv"
  },
  "language_info": {
   "codemirror_mode": {
    "name": "ipython",
    "version": 3
   },
   "file_extension": ".py",
   "mimetype": "text/x-python",
   "name": "python",
   "nbconvert_exporter": "python",
   "pygments_lexer": "ipython3",
   "version": "3.11.7"
  }
 },
 "nbformat": 4,
 "nbformat_minor": 5
}
