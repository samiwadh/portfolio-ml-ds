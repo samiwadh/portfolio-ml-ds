{
 "cells": [
  {
   "cell_type": "code",
   "execution_count": 2,
   "id": "3ea868e2",
   "metadata": {},
   "outputs": [],
   "source": [
    "import tensorflow as tf\n",
    "from tensorflow.keras import models, layers\n",
    "import matplotlib.pyplot as plt\n",
    "from tensorflow.keras.callbacks import EarlyStopping\n",
    "import os "
   ]
  },
  {
   "cell_type": "markdown",
   "id": "79300ec0",
   "metadata": {},
   "source": [
    "Stage\n",
    "\n",
    "1. Data Collection\tGather raw data from various sources\n",
    "2. Data Cleaning\tHandle missing values, outliers, formatting issues\n",
    "3. Feature Engineering\tCreate and select meaningful variables\n",
    "4. Modeling\tApply machine learning algorithms\n",
    "5. Evaluation\tAssess model performance (accuracy, precision, etc.)\n",
    "6. Deployment\tUse the model in production (optional)\n"
   ]
  },
  {
   "cell_type": "markdown",
   "id": "06e685e8",
   "metadata": {},
   "source": []
  },
  {
   "cell_type": "code",
   "execution_count": 3,
   "id": "3e4b9b4d",
   "metadata": {},
   "outputs": [
    {
     "name": "stdout",
     "output_type": "stream",
     "text": [
      "Package                   Version\n",
      "------------------------- -----------------\n",
      "absl-py                   2.1.0\n",
      "annotated-types           0.7.0\n",
      "anyio                     4.4.0\n",
      "argon2-cffi               25.1.0\n",
      "argon2-cffi-bindings      21.2.0\n",
      "arrow                     1.3.0\n",
      "asttokens                 3.0.0\n",
      "astunparse                1.6.3\n",
      "async-lru                 2.0.5\n",
      "attrs                     25.3.0\n",
      "babel                     2.17.0\n",
      "beautifulsoup4            4.13.4\n",
      "bleach                    6.2.0\n",
      "certifi                   2024.6.2\n",
      "cffi                      1.17.1\n",
      "charset-normalizer        3.3.2\n",
      "click                     8.1.7\n",
      "colorama                  0.4.6\n",
      "comm                      0.2.2\n",
      "contourpy                 1.3.2\n",
      "cycler                    0.12.1\n",
      "debugpy                   1.8.14\n",
      "decorator                 5.2.1\n",
      "defusedxml                0.7.1\n",
      "dnspython                 2.6.1\n",
      "email_validator           2.1.1\n",
      "executing                 2.2.0\n",
      "fastapi                   0.111.0\n",
      "fastapi-cli               0.0.4\n",
      "fastjsonschema            2.21.1\n",
      "flatbuffers               24.3.25\n",
      "fonttools                 4.59.0\n",
      "fqdn                      1.5.1\n",
      "gast                      0.5.4\n",
      "google-pasta              0.2.0\n",
      "grpcio                    1.64.0\n",
      "h11                       0.14.0\n",
      "h5py                      3.11.0\n",
      "httpcore                  1.0.5\n",
      "httptools                 0.6.1\n",
      "httpx                     0.27.0\n",
      "idna                      3.7\n",
      "ipykernel                 6.29.5\n",
      "ipython                   9.4.0\n",
      "ipython_pygments_lexers   1.1.1\n",
      "ipywidgets                8.1.7\n",
      "isoduration               20.11.0\n",
      "jedi                      0.19.2\n",
      "Jinja2                    3.1.4\n",
      "joblib                    1.5.1\n",
      "json5                     0.12.0\n",
      "jsonpointer               3.0.0\n",
      "jsonschema                4.24.0\n",
      "jsonschema-specifications 2025.4.1\n",
      "jupyter                   1.1.1\n",
      "jupyter_client            8.6.3\n",
      "jupyter-console           6.6.3\n",
      "jupyter_core              5.8.1\n",
      "jupyter-events            0.12.0\n",
      "jupyter-lsp               2.2.5\n",
      "jupyter_server            2.16.0\n",
      "jupyter_server_terminals  0.5.3\n",
      "jupyterlab                4.4.4\n",
      "jupyterlab_pygments       0.3.0\n",
      "jupyterlab_server         2.27.3\n",
      "jupyterlab_widgets        3.0.15\n",
      "keras                     3.3.3\n",
      "kiwisolver                1.4.8\n",
      "libclang                  18.1.1\n",
      "Markdown                  3.6\n",
      "markdown-it-py            3.0.0\n",
      "MarkupSafe                2.1.5\n",
      "matplotlib                3.10.3\n",
      "matplotlib-inline         0.1.7\n",
      "mdurl                     0.1.2\n",
      "mistune                   3.1.3\n",
      "ml-dtypes                 0.3.2\n",
      "namex                     0.0.8\n",
      "nbclient                  0.10.2\n",
      "nbconvert                 7.16.6\n",
      "nbformat                  5.10.4\n",
      "nest-asyncio              1.6.0\n",
      "notebook                  7.4.4\n",
      "notebook_shim             0.2.4\n",
      "numpy                     1.26.4\n",
      "opencv-python             4.9.0.80\n",
      "opt-einsum                3.3.0\n",
      "optree                    0.11.0\n",
      "orjson                    3.10.3\n",
      "overrides                 7.7.0\n",
      "packaging                 24.0\n",
      "pandas                    2.3.1\n",
      "pandocfilters             1.5.1\n",
      "parso                     0.8.4\n",
      "pillow                    10.3.0\n",
      "pip                       25.1.1\n",
      "platformdirs              4.3.8\n",
      "prometheus_client         0.22.1\n",
      "prompt_toolkit            3.0.51\n",
      "protobuf                  4.25.3\n",
      "psutil                    7.0.0\n",
      "pure_eval                 0.2.3\n",
      "pycparser                 2.22\n",
      "pydantic                  2.7.2\n",
      "pydantic_core             2.18.3\n",
      "Pygments                  2.18.0\n",
      "pyparsing                 3.2.3\n",
      "python-dateutil           2.9.0.post0\n",
      "python-dotenv             1.0.1\n",
      "python-json-logger        3.3.0\n",
      "python-multipart          0.0.9\n",
      "pytz                      2025.2\n",
      "pywin32                   310\n",
      "pywinpty                  2.0.15\n",
      "PyYAML                    6.0.1\n",
      "pyzmq                     27.0.0\n",
      "referencing               0.36.2\n",
      "requests                  2.32.3\n",
      "rfc3339-validator         0.1.4\n",
      "rfc3986-validator         0.1.1\n",
      "rich                      14.0.0\n",
      "rpds-py                   0.26.0\n",
      "scikit-learn              1.7.0\n",
      "scipy                     1.16.0\n",
      "seaborn                   0.13.2\n",
      "Send2Trash                1.8.3\n",
      "setuptools                70.0.0\n",
      "shellingham               1.5.4\n",
      "six                       1.16.0\n",
      "sniffio                   1.3.1\n",
      "soupsieve                 2.7\n",
      "stack-data                0.6.3\n",
      "starlette                 0.37.2\n",
      "tensorboard               2.16.2\n",
      "tensorboard-data-server   0.7.2\n",
      "tensorflow                2.16.1\n",
      "tensorflow-intel          2.16.1\n",
      "termcolor                 2.4.0\n",
      "terminado                 0.18.1\n",
      "threadpoolctl             3.6.0\n",
      "tinycss2                  1.4.0\n",
      "tornado                   6.5.1\n",
      "traitlets                 5.14.3\n",
      "typer                     0.12.3\n",
      "types-python-dateutil     2.9.0.20250708\n",
      "types-pytz                2025.2.0.20250516\n",
      "typing_extensions         4.14.1\n",
      "tzdata                    2025.2\n",
      "ujson                     5.10.0\n",
      "uri-template              1.3.0\n",
      "urllib3                   2.2.1\n",
      "uvicorn                   0.30.1\n",
      "watchfiles                0.22.0\n",
      "wcwidth                   0.2.13\n",
      "webcolors                 24.11.1\n",
      "webencodings              0.5.1\n",
      "websocket-client          1.8.0\n",
      "websockets                12.0\n",
      "Werkzeug                  3.0.3\n",
      "wheel                     0.43.0\n",
      "widgetsnbextension        4.0.14\n",
      "wrapt                     1.16.0\n"
     ]
    }
   ],
   "source": [
    "!pip list"
   ]
  },
  {
   "cell_type": "markdown",
   "id": "74838591",
   "metadata": {},
   "source": [
    "1. This block is used to prevent Out Of Memory (OOM) errors when using NVIDIA GPUs with TensorFlow.\n",
    "It tells TensorFlow to only allocate GPU memory as needed (instead of reserving all memory at once).\n",
    "\n",
    "1.1 Note  This only applies if you have a compatible NVIDIA GPU and CUDA/cuDNN set up properly.\n",
    "If you're running TensorFlow on CPU (like in most laptops or older systems), this is not needed.\n",
    "\n",
    "2. import tensorflow as tf\n",
    "\n",
    "gpus = tf.config.experimental.list_physical_devices('GPU')\n",
    "for gpu in gpus:\n",
    "    tf.config.experimental.set_memory_growth(gpu, True)\n"
   ]
  },
  {
   "cell_type": "code",
   "execution_count": 4,
   "id": "6c6d448e",
   "metadata": {},
   "outputs": [],
   "source": [
    "# Avoid OOM errors by setting GPU memory consumption growth\n",
    "gpus = tf.config.experimental.list_physical_devices('GPU')\n",
    "for gpu in gpus:\n",
    "    tf.config.experimental.set_memory_growth(gpu, True)"
   ]
  },
  {
   "cell_type": "code",
   "execution_count": 5,
   "id": "d81c08a3",
   "metadata": {},
   "outputs": [
    {
     "name": "stdout",
     "output_type": "stream",
     "text": [
      "[]\n"
     ]
    }
   ],
   "source": [
    "gpus = tf.config.experimental.list_physical_devices('GPU')\n",
    "print(gpus)"
   ]
  },
  {
   "cell_type": "code",
   "execution_count": 6,
   "id": "6a8f18b6",
   "metadata": {},
   "outputs": [
    {
     "name": "stdout",
     "output_type": "stream",
     "text": [
      "[PhysicalDevice(name='/physical_device:CPU:0', device_type='CPU')]\n"
     ]
    }
   ],
   "source": [
    "# MY LAPTOP don't have gpu but have CPU\n",
    "gpus = tf.config.experimental.list_physical_devices('CPU')\n",
    "print(gpus)"
   ]
  },
  {
   "cell_type": "code",
   "execution_count": 7,
   "id": "7efb2da4",
   "metadata": {},
   "outputs": [],
   "source": [
    "# step 2 now  we are going to remove dodgy images"
   ]
  },
  {
   "cell_type": "code",
   "execution_count": 8,
   "id": "93b772ca",
   "metadata": {},
   "outputs": [
    {
     "name": "stderr",
     "output_type": "stream",
     "text": [
      "C:\\Users\\samiwadho\\AppData\\Local\\Temp\\ipykernel_436\\201721051.py:3: DeprecationWarning: 'imghdr' is deprecated and slated for removal in Python 3.13\n",
      "  import imghdr\n"
     ]
    }
   ],
   "source": [
    "# step 2 now  we are going to remove dodgy images\n",
    "import cv2\n",
    "import imghdr\n",
    "\n",
    "\n",
    "data_dir = \"data\"\n"
   ]
  },
  {
   "cell_type": "code",
   "execution_count": 9,
   "id": "3c868d20",
   "metadata": {},
   "outputs": [
    {
     "data": {
      "text/plain": [
       "['jpg', 'jpeg', 'bmp', 'png']"
      ]
     },
     "execution_count": 9,
     "metadata": {},
     "output_type": "execute_result"
    }
   ],
   "source": [
    "# going to assign which extention \n",
    "image_exts = ['jpg','jpeg','bmp','png']\n",
    "image_exts"
   ]
  },
  {
   "cell_type": "code",
   "execution_count": 10,
   "id": "a9a1e5d0",
   "metadata": {},
   "outputs": [
    {
     "data": {
      "text/plain": [
       "'bmp'"
      ]
     },
     "execution_count": 10,
     "metadata": {},
     "output_type": "execute_result"
    }
   ],
   "source": [
    "image_exts[2]"
   ]
  },
  {
   "cell_type": "code",
   "execution_count": 11,
   "id": "732a3270",
   "metadata": {},
   "outputs": [
    {
     "data": {
      "text/plain": [
       "['happy', 'sad']"
      ]
     },
     "execution_count": 11,
     "metadata": {},
     "output_type": "execute_result"
    }
   ],
   "source": [
    "# now useing os \n",
    "os.listdir(data_dir)"
   ]
  },
  {
   "cell_type": "code",
   "execution_count": 12,
   "id": "3013a162",
   "metadata": {},
   "outputs": [
    {
     "data": {
      "text/plain": [
       "['05-12-21-happy-people.jpg',\n",
       " '07-120104-happy_people_are_not_nice_people.jpg',\n",
       " '1-2.jpg',\n",
       " '1000_F_42220133_toAU6USGY9jVr2XJFLssfG00cSYIJ173.jpg',\n",
       " '11-Habits-of-Truly-Happy-People.jpg',\n",
       " '154006829.jpg',\n",
       " '170404-happy-workers-feature.jpg',\n",
       " '1902539.jpg',\n",
       " '1902540.jpg',\n",
       " '1902587.jpg',\n",
       " '1920px-face-smile.svg_.png.jpg',\n",
       " '1HEoLBLidT2u4mhJ0oiDgig.png',\n",
       " '227-2271622_happy-people-business-team-celebrating-png.png',\n",
       " '7-Habits-of-Happy-People-image.jpeg',\n",
       " '7-principles-of-successful-and-happy-people.png',\n",
       " '7Y57w0983emdERAoQylUHIGkoEk1cIFvPkXDbeA2lVA.jpg',\n",
       " '8cxKy5g9i.jpg',\n",
       " '960x0.jpg',\n",
       " 'A_Sep20_14_1189155141.jpg',\n",
       " 'bigstock-Portrait-Of-Smiling-Employees-272904928-min-scaled.jpg',\n",
       " 'blog_image_20180219221810890.jpg',\n",
       " 'brady-bunch-3.jpg',\n",
       " 'e162ccda8ce0f197f8863f327add9233.jpg',\n",
       " 'fiendship-concept-smiling-friends-communication-weekend-university-123724503.jpg',\n",
       " 'friends-happy-190821-800x450.jpg',\n",
       " 'GettyImages-565706549-949x534.jpg',\n",
       " 'GettyImages-871518740-1024x707.jpg',\n",
       " 'getty_152414899_97046097045006_68075.jpg',\n",
       " 'getty_478389113_970647970450091_99776.jpg',\n",
       " 'getty_494581822_130796.jpg',\n",
       " 'getty_505175324_2000131020009280246_158016.jpg',\n",
       " 'goup-happy-people-group-jumping-isolated-white-background-35582232.jpg',\n",
       " 'group-of-happy-people-2.jpg',\n",
       " 'habits-of-happy-people-cr3.jpg',\n",
       " 'habits-of-happy-people.jpg',\n",
       " 'habits-that-define-very-happy-people.jpg',\n",
       " 'Happiness-Habits-10-Things-Happy-People-Do-Before-Bed.jpg',\n",
       " 'happiness.jpg',\n",
       " 'happinessa.jpg',\n",
       " 'happy-girl-in-leaves.jpg',\n",
       " 'happy-people-1024x768.jpeg',\n",
       " 'happy-people-13772392.jpg',\n",
       " 'happy-people-14410042.jpg',\n",
       " 'happy-people-702x336.jpg',\n",
       " 'Happy-people-800x533.jpg',\n",
       " 'happy-people-black-and-white-720x360.jpg',\n",
       " 'HAPPY-PEOPLE-CLUB-LOGO.jpg',\n",
       " 'happy-people-group-fb.jpg',\n",
       " 'Happy-people-raise-happy-kids-raise-yourself-first.jpg',\n",
       " 'happy-people-vector-29209040.jpg',\n",
       " 'happy-people-vector-839522.jpg',\n",
       " 'happy-people.jpg',\n",
       " 'happy-people21.jpg',\n",
       " 'happy-people_1463241208.jpg',\n",
       " 'happy-person.jpeg',\n",
       " 'happy-woman-in-nature-at-sunset.jpg',\n",
       " 'happypeople-1024x679.jpg',\n",
       " 'HappyPeopleBanner.png',\n",
       " 'Happy_People_Happy_Man.jpg',\n",
       " 'hdptcar-fi-2.jpg',\n",
       " 'how-happy-are-healthy-people.jpg',\n",
       " 'How-to-Be-Happy_1200x628-facebook.jpg',\n",
       " 'How_Happy_Are_People_at_Work.jpg',\n",
       " 'hqdefault.jpg',\n",
       " 'image15.jpeg',\n",
       " 'image16.jpeg',\n",
       " 'image17.jpeg',\n",
       " 'image18.jpeg',\n",
       " 'image19.jpeg',\n",
       " 'image20.jpeg',\n",
       " 'image25.jpeg',\n",
       " 'image26.jpeg',\n",
       " 'image27.jpeg',\n",
       " 'images12.jpg',\n",
       " 'images16.jpg',\n",
       " 'images17.jpg',\n",
       " 'images22.jpg',\n",
       " 'images26.jpg',\n",
       " 'images28.jpg',\n",
       " 'images30.jpg',\n",
       " 'images31.jpg',\n",
       " 'images36.jpg',\n",
       " 'images6.jpg',\n",
       " 'iStock-1212931050.jpg',\n",
       " 'jumping_for_joy_for_3_kinds_of_happy_people.jpg',\n",
       " 'maxresdefault.jpg',\n",
       " 'maxresdefault2.jpg',\n",
       " 'MV5BMTM3ODM0NTQ1MF5BMl5BanBnXkFtZTcwMzAxMTM5OA._V1_.jpg',\n",
       " 'o-HAPPY-facebook.jpg',\n",
       " 'physed-happiness-facebookJumbo.jpg',\n",
       " 'Screen-Shot-2012-10-23-at-12.57.22-PM.png',\n",
       " 'smile.woman_.jpg',\n",
       " 'the-habits-of-happy-people-a-meditation-day-course-611337.jpg',\n",
       " 'THPC_Logo-jpeg.jpg',\n",
       " 'tmp_6mv7xy_5d5b15258a507669_GettyImages-847741712.jpg',\n",
       " 'Top-Secrets-of-How-to-be-Happy.jpg',\n",
       " 'traitshappypeople.jpg',\n",
       " 'Travis-Bradberry-Happy.jpg',\n",
       " 'web3-happy-people-outside-smile-sun-nature-eduardo-dutra-620857-unsplash.jpg',\n",
       " 'what-makes-people-happy.jpeg',\n",
       " 'young-and-happy-people-vector-15114154.jpg',\n",
       " '_happy_jumping_on_beach-40815.jpg']"
      ]
     },
     "execution_count": 12,
     "metadata": {},
     "output_type": "execute_result"
    }
   ],
   "source": [
    "# now we are going to take every happy or sad\n",
    "os.listdir(os.path.join(data_dir,'happy'))\n",
    "# it will give me all the happy image"
   ]
  },
  {
   "cell_type": "code",
   "execution_count": 13,
   "id": "a4acf824",
   "metadata": {},
   "outputs": [
    {
     "ename": "SyntaxError",
     "evalue": "invalid syntax (231773240.py, line 2)",
     "output_type": "error",
     "traceback": [
      "  \u001b[36mCell\u001b[39m\u001b[36m \u001b[39m\u001b[32mIn[13]\u001b[39m\u001b[32m, line 2\u001b[39m\n\u001b[31m    \u001b[39m\u001b[31mfor images_\u001b[39m\n               ^\n\u001b[31mSyntaxError\u001b[39m\u001b[31m:\u001b[39m invalid syntax\n"
     ]
    }
   ],
   "source": [
    "#now we are going to looping \n",
    "for images_"
   ]
  },
  {
   "cell_type": "code",
   "execution_count": null,
   "id": "9210b38e",
   "metadata": {},
   "outputs": [],
   "source": []
  }
 ],
 "metadata": {
  "kernelspec": {
   "display_name": "Python (myenv)",
   "language": "python",
   "name": "myenv"
  },
  "language_info": {
   "codemirror_mode": {
    "name": "ipython",
    "version": 3
   },
   "file_extension": ".py",
   "mimetype": "text/x-python",
   "name": "python",
   "nbconvert_exporter": "python",
   "pygments_lexer": "ipython3",
   "version": "3.12.3"
  }
 },
 "nbformat": 4,
 "nbformat_minor": 5
}
