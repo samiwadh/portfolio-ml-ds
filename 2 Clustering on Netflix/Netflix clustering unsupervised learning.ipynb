{
 "cells": [
  {
   "cell_type": "code",
   "execution_count": null,
   "id": "b798eeb8",
   "metadata": {},
   "outputs": [
    {
     "name": "stderr",
     "output_type": "stream",
     "text": [
      "C:\\Users\\samiwadho\\AppData\\Local\\Temp\\ipykernel_16068\\591663057.py:4: DeprecationWarning: `np.math` is a deprecated alias for the standard library `math` module (Deprecated Numpy 1.25). Replace usages of `np.math` with `math`\n",
      "  from numpy import math\n"
     ]
    }
   ],
   "source": [
    "from matplotlib.pyplot import plot as plt ,figure\n",
    "import matplotlib.ticker as mtick\n",
    "import pandas as pd \n",
    "from numpy import math\n",
    "import numpy as np\n",
    "import seaborn as sns\n",
    "from datetime import datetime\n",
    "import plotly.graph_objects as go\n",
    "import plotly.offline as py \n",
    "import plotly.express as px\n",
    "import \n",
    "from plotly.subplots import make_subplots\n",
    "from plotly.offline import init_notebook_mode ,iplot\n",
    "import plotly.offline as po \n",
    "import plotly "
   ]
  },
  {
   "cell_type": "code",
   "execution_count": null,
   "id": "17739157",
   "metadata": {},
   "outputs": [],
   "source": [
    "stream_net = pd.read_csv()"
   ]
  }
 ],
 "metadata": {
  "kernelspec": {
   "display_name": "Python (myenv)",
   "language": "python",
   "name": "myenv"
  },
  "language_info": {
   "codemirror_mode": {
    "name": "ipython",
    "version": 3
   },
   "file_extension": ".py",
   "mimetype": "text/x-python",
   "name": "python",
   "nbconvert_exporter": "python",
   "pygments_lexer": "ipython3",
   "version": "3.12.3"
  }
 },
 "nbformat": 4,
 "nbformat_minor": 5
}
